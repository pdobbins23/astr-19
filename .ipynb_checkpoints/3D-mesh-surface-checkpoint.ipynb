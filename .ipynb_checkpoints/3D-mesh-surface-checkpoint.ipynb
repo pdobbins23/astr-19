{
 "cells": [
  {
   "cell_type": "code",
   "execution_count": null,
   "id": "05fc26e3",
   "metadata": {},
   "outputs": [],
   "source": [
    "from mpl_toolkits.mplot3d import axes3d\n",
    "import matplotlib.pyplot as plt\n",
    "import numpy as np"
   ]
  },
  {
   "cell_type": "code",
   "execution_count": null,
   "id": "0f541d03",
   "metadata": {},
   "outputs": [],
   "source": [
    "fig = plt.figure(figsize=(7,7))\n",
    "ax = fig.add_subplot(111, projection=\"3d\")\n",
    "x = np.linspace(0, 1 * np.pi, 200)\n",
    "y = np.linspace(0, 2 * np.pi, 200)\n",
    "x, y = np.meshgrid(x, y)\n",
    "z = -np.sin(x) * np.sin(y)\n",
    "\n",
    "ax.plot_wireframe(x, y, z, rstride=5, cstride=5, linewidth=0.5, color=\"0.25\")\n",
    "ax.view_init(20)\n",
    "ax.set_xlabel(\"X Label\")\n",
    "ax.set_ylabel(\"Y Label\")\n",
    "ax.set_zlabel(\"Z Label\")\n",
    "plt.savefig(\"wireframe-surface.png\", bbox_inches=\"tight\", facecolor=\"white\")"
   ]
  }
 ],
 "metadata": {
  "kernelspec": {
   "display_name": "Python 3 (ipykernel)",
   "language": "python",
   "name": "python3"
  },
  "language_info": {
   "codemirror_mode": {
    "name": "ipython",
    "version": 3
   },
   "file_extension": ".py",
   "mimetype": "text/x-python",
   "name": "python",
   "nbconvert_exporter": "python",
   "pygments_lexer": "ipython3",
   "version": "3.11.4"
  }
 },
 "nbformat": 4,
 "nbformat_minor": 5
}
