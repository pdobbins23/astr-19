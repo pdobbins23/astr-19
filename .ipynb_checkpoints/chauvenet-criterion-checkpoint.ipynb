{
 "cells": [
  {
   "cell_type": "code",
   "execution_count": 1,
   "id": "cd9b3b4a",
   "metadata": {},
   "outputs": [],
   "source": [
    "import sys\n",
    "import numpy as np\n",
    "from scipy.special import erf"
   ]
  },
  {
   "cell_type": "code",
   "execution_count": 2,
   "id": "0a80025a",
   "metadata": {},
   "outputs": [],
   "source": [
    "def event_probability(x, mu=0.0, s=1.0):\n",
    "    z = np.fabs((x - mu) / s)\n",
    "\n",
    "    def zfunc(z):\n",
    "        return 0.5 * (1.0 + erf(z / 2 ** 0.5))\n",
    "\n",
    "    return 1.0 - (zfunc(z) - zfunc(-1 * z))"
   ]
  },
  {
   "cell_type": "code",
   "execution_count": 3,
   "id": "271d2f53",
   "metadata": {},
   "outputs": [],
   "source": [
    "def chauvenet_criterion(prior_measurements, outlier):\n",
    "    mean = np.mean(prior_measurements)\n",
    "    std = np.std(prior_measurements)\n",
    "    \n",
    "    outlier_probability = event_probability(outlier, mu=mean, s=std)\n",
    "    \n",
    "    N = len(prior_measurements) + 1\n",
    "    \n",
    "    if N * outlier_probability < 0.5:\n",
    "        if outlier_probability < 1/float(2 * N):\n",
    "            return True\n",
    "    \n",
    "    return False"
   ]
  },
  {
   "cell_type": "code",
   "execution_count": 22,
   "id": "6adb820d",
   "metadata": {},
   "outputs": [
    {
     "name": "stdout",
     "output_type": "stream",
     "text": [
      "Can we reject an outlier = 5.0 for N = 1000 samples? True\n"
     ]
    }
   ],
   "source": [
    "N = 1000\n",
    "x = np.random.normal(loc=0.0, scale=1.0, size=N)\n",
    "\n",
    "outlier = 5.0\n",
    "\n",
    "answer = chauvenet_criterion(x, outlier)\n",
    "\n",
    "print(f\"Can we reject an outlier = {outlier} for N = {N} samples? {answer}\")"
   ]
  },
  {
   "cell_type": "code",
   "execution_count": null,
   "id": "1c326543",
   "metadata": {},
   "outputs": [],
   "source": []
  }
 ],
 "metadata": {
  "kernelspec": {
   "display_name": "Python 3 (ipykernel)",
   "language": "python",
   "name": "python3"
  },
  "language_info": {
   "codemirror_mode": {
    "name": "ipython",
    "version": 3
   },
   "file_extension": ".py",
   "mimetype": "text/x-python",
   "name": "python",
   "nbconvert_exporter": "python",
   "pygments_lexer": "ipython3",
   "version": "3.11.4"
  }
 },
 "nbformat": 4,
 "nbformat_minor": 5
}
