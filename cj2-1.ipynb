{
 "cells": [
  {
   "cell_type": "code",
   "execution_count": null,
   "id": "35272739",
   "metadata": {},
   "outputs": [],
   "source": [
    "import matplotlib.pyplot as plt\n",
    "import numpy as np"
   ]
  },
  {
   "cell_type": "code",
   "execution_count": null,
   "id": "830df1f3",
   "metadata": {},
   "outputs": [],
   "source": [
    "x = [n for n in np.arange(0, 1, 0.01)]\n",
    "\n",
    "def exp(x):\n",
    "    return np.exp(x)"
   ]
  },
  {
   "cell_type": "code",
   "execution_count": null,
   "id": "27630f6d",
   "metadata": {},
   "outputs": [],
   "source": [
    "y = exp(x)\n",
    "\n",
    "plt.plot(x, y, ol)"
   ]
  }
 ],
 "metadata": {
  "kernelspec": {
   "display_name": "Python 3 (ipykernel)",
   "language": "python",
   "name": "python3"
  },
  "language_info": {
   "codemirror_mode": {
    "name": "ipython",
    "version": 3
   },
   "file_extension": ".py",
   "mimetype": "text/x-python",
   "name": "python",
   "nbconvert_exporter": "python",
   "pygments_lexer": "ipython3",
   "version": "3.11.4"
  }
 },
 "nbformat": 4,
 "nbformat_minor": 5
}
