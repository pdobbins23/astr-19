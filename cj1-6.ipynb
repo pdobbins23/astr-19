{
 "cells": [
  {
   "cell_type": "code",
   "execution_count": 32,
   "id": "b43d20e6",
   "metadata": {},
   "outputs": [],
   "source": [
    "import numpy as np"
   ]
  },
  {
   "cell_type": "markdown",
   "id": "e4b093f5",
   "metadata": {},
   "source": [
    "Computes sin(x) using numpy"
   ]
  },
  {
   "cell_type": "code",
   "execution_count": 33,
   "id": "b78e5951",
   "metadata": {},
   "outputs": [],
   "source": [
    "def sin(x):\n",
    "    return np.sin(x)"
   ]
  },
  {
   "cell_type": "markdown",
   "id": "888d7a2d",
   "metadata": {},
   "source": [
    "Computes cos(x) using numpy"
   ]
  },
  {
   "cell_type": "code",
   "execution_count": 34,
   "id": "37155be9",
   "metadata": {},
   "outputs": [],
   "source": [
    "def cos(x):\n",
    "    return np.cos(x)"
   ]
  },
  {
   "cell_type": "markdown",
   "id": "d60e3700",
   "metadata": {},
   "source": [
    "Returns a list of 1000 tuples containing (x, sin(x), cos(x)) where 0 <= x < 2π"
   ]
  },
  {
   "cell_type": "code",
   "execution_count": 35,
   "id": "6f0d48c3",
   "metadata": {},
   "outputs": [],
   "source": [
    "def tabulate():\n",
    "    results = []\n",
    "    for x in np.arange(0,2*np.pi,2*np.pi/1000.0):\n",
    "        results.append((x, sin(x), cos(x)))\n",
    "    return results"
   ]
  },
  {
   "cell_type": "code",
   "execution_count": 36,
   "id": "dc92f16f",
   "metadata": {},
   "outputs": [
    {
     "name": "stdout",
     "output_type": "stream",
     "text": [
      "x | sin(x) | cos(x)\n",
      "-------------------\n",
      "(0.0, 0.0, 1.0)\n",
      "(0.006283185307179587, 0.006283143965558951, 0.9999802608561371)\n",
      "(0.012566370614359173, 0.012566039883352607, 0.9999210442038161)\n",
      "(0.01884955592153876, 0.018848439715408175, 0.999822352380809)\n",
      "(0.025132741228718346, 0.02513009544333748, 0.9996841892832999)\n",
      "(0.031415926535897934, 0.03141075907812829, 0.9995065603657316)\n",
      "(0.03769911184307752, 0.03769018266993454, 0.9992894726405892)\n",
      "(0.04398229715025711, 0.04396811831786491, 0.9990329346781247)\n",
      "(0.05026548245743669, 0.050244318179769556, 0.9987369566060175)\n",
      "(0.05654866776461628, 0.05651853448202453, 0.998401550108975)\n"
     ]
    }
   ],
   "source": [
    "results = tabulate()\n",
    "\n",
    "print(\"x | sin(x) | cos(x)\")\n",
    "print(\"-------------------\")\n",
    "\n",
    "for i in range(0, 10):\n",
    "    print(results[i])"
   ]
  },
  {
   "cell_type": "code",
   "execution_count": null,
   "id": "f480d0e9",
   "metadata": {},
   "outputs": [],
   "source": []
  }
 ],
 "metadata": {
  "kernelspec": {
   "display_name": "Python 3 (ipykernel)",
   "language": "python",
   "name": "python3"
  },
  "language_info": {
   "codemirror_mode": {
    "name": "ipython",
    "version": 3
   },
   "file_extension": ".py",
   "mimetype": "text/x-python",
   "name": "python",
   "nbconvert_exporter": "python",
   "pygments_lexer": "ipython3",
   "version": "3.11.4"
  }
 },
 "nbformat": 4,
 "nbformat_minor": 5
}
