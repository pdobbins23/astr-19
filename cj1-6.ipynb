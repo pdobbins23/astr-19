{
 "cells": [
  {
   "cell_type": "code",
   "execution_count": null,
   "id": "6ef1b2a5",
   "metadata": {},
   "outputs": [],
   "source": [
    "import numpy as np"
   ]
  },
  {
   "cell_type": "code",
   "execution_count": null,
   "id": "958a15b8",
   "metadata": {},
   "outputs": [],
   "source": [
    "# Returns the sine value at the given x value using numpy\n",
    "def sin(x):\n",
    "    return np.sin(x)"
   ]
  },
  {
   "cell_type": "code",
   "execution_count": null,
   "id": "a22d83ab",
   "metadata": {},
   "outputs": [],
   "source": [
    "# Returns the cosine value at the given x value using numpy\n",
    "def cos(x):\n",
    "    return np.cos(x)"
   ]
  },
  {
   "cell_type": "code",
   "execution_count": null,
   "id": "99a44f2c",
   "metadata": {},
   "outputs": [],
   "source": [
    "# Returns a list of 1000 tuples containing (x, sin(x), cos(x)) where 0 <= x < 2π\n",
    "def tabulate():\n",
    "    results = []\n",
    "    for x in np.arange(0,2*np.pi,2*np.pi/1000.0):\n",
    "        results.append((x, sin(x), cos(x)))\n",
    "    return results"
   ]
  },
  {
   "cell_type": "code",
   "execution_count": null,
   "id": "ab8e2018",
   "metadata": {},
   "outputs": [],
   "source": [
    "results = tabulate()\n",
    "\n",
    "print(\"x | sin(x) | cos(x)\")\n",
    "print(\"-------------------\")\n",
    "\n",
    "for i in range(0, 10):\n",
    "    print(results[i])"
   ]
  },
  {
   "cell_type": "code",
   "execution_count": null,
   "id": "12cb2e8a",
   "metadata": {},
   "outputs": [],
   "source": []
  }
 ],
 "metadata": {
  "kernelspec": {
   "display_name": "Python 3 (ipykernel)",
   "language": "python",
   "name": "python3"
  },
  "language_info": {
   "codemirror_mode": {
    "name": "ipython",
    "version": 3
   },
   "file_extension": ".py",
   "mimetype": "text/x-python",
   "name": "python",
   "nbconvert_exporter": "python",
   "pygments_lexer": "ipython3",
   "version": "3.11.4"
  }
 },
 "nbformat": 4,
 "nbformat_minor": 5
}
