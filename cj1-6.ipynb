{
 "cells": [
  {
   "cell_type": "code",
   "execution_count": null,
   "id": "04bc7361",
   "metadata": {},
   "outputs": [],
   "source": [
    "import numpy as np"
   ]
  },
  {
   "cell_type": "markdown",
   "id": "2290a041",
   "metadata": {},
   "source": [
    "Computes sin(x) using numpy"
   ]
  },
  {
   "cell_type": "code",
   "execution_count": null,
   "id": "83c171a9",
   "metadata": {},
   "outputs": [],
   "source": [
    "def sin(x):\n",
    "    return np.sin(x)"
   ]
  },
  {
   "cell_type": "markdown",
   "id": "8cdde185",
   "metadata": {},
   "source": [
    "Computes cos(x) using numpy"
   ]
  },
  {
   "cell_type": "code",
   "execution_count": null,
   "id": "2dc11451",
   "metadata": {},
   "outputs": [],
   "source": [
    "def cos(x):\n",
    "    return np.cos(x)"
   ]
  },
  {
   "cell_type": "markdown",
   "id": "938e8b81",
   "metadata": {},
   "source": [
    "Returns a list of 1000 tuples containing (x, sin(x), cos(x)) where 0 <= x < 2π"
   ]
  },
  {
   "cell_type": "code",
   "execution_count": null,
   "id": "f1da1d5a",
   "metadata": {},
   "outputs": [],
   "source": [
    "def tabulate():\n",
    "    results = []\n",
    "    for x in np.arange(0,2*np.pi,2*np.pi/1000.0):\n",
    "        results.append((x, sin(x), cos(x)))\n",
    "    return results"
   ]
  },
  {
   "cell_type": "code",
   "execution_count": null,
   "id": "0bd40bcc",
   "metadata": {},
   "outputs": [],
   "source": [
    "results = tabulate()\n",
    "\n",
    "print(\"x | sin(x) | cos(x)\")\n",
    "print(\"-------------------\")\n",
    "\n",
    "for i in range(0, 10):\n",
    "    print(results[i])"
   ]
  },
  {
   "cell_type": "code",
   "execution_count": null,
   "id": "a4ec9f80",
   "metadata": {},
   "outputs": [],
   "source": []
  }
 ],
 "metadata": {
  "kernelspec": {
   "display_name": "Python 3 (ipykernel)",
   "language": "python",
   "name": "python3"
  },
  "language_info": {
   "codemirror_mode": {
    "name": "ipython",
    "version": 3
   },
   "file_extension": ".py",
   "mimetype": "text/x-python",
   "name": "python",
   "nbconvert_exporter": "python",
   "pygments_lexer": "ipython3",
   "version": "3.11.4"
  }
 },
 "nbformat": 4,
 "nbformat_minor": 5
}
